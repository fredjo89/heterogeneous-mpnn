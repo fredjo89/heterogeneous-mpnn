{
 "cells": [
  {
   "cell_type": "code",
   "execution_count": 156,
   "id": "dca15abc-6c8a-4427-9fc0-e454374241c5",
   "metadata": {},
   "outputs": [],
   "source": [
    "import pandas as pd, numpy as np, matplotlib.pyplot as plt\n",
    "import torch\n",
    "import torch_geometric\n",
    "import jupyter_black\n",
    "\n",
    "jupyter_black.load()\n",
    "\n"
   ]
  },
  {
   "cell_type": "markdown",
   "id": "d9bf305e-1ede-4f97-b134-6db8ddc98b9d",
   "metadata": {},
   "source": [
    "# Load Data"
   ]
  },
  {
   "cell_type": "code",
   "execution_count": 125,
   "id": "da442b9e-dd41-4fef-8a8f-0833d7f4f07e",
   "metadata": {},
   "outputs": [],
   "source": [
    "from torch_geometric.datasets import IMDB\n",
    "import torch_geometric.transforms as T\n",
    "\n",
    "transform = T.ToUndirected()  # Add reverse edge types.\n",
    "data = IMDB(root=\"./data/IMDB/\", transform=transform)[0]\n",
    "\n",
    "# Making the classification problem binary by merging class 2 and 1\n",
    "data[\"movie\"].y[data[\"movie\"].y == 2] = 1\n",
    "\n",
    "# Add edge attributes to all edges. The model expects edge attributes, and will produce error if it does not exist\n",
    "for edge_type in data.edge_types:\n",
    "    data[edge_type].edge_attr = torch.ones(\n",
    "        [data[edge_type].edge_index.shape[1], 1], dtype=torch.float32\n",
    "    )\n",
    "\n",
    "# Reducing the number of features by removing those that are most frequently equal to zero\n",
    "feature_mask = (data[\"movie\"].x != 0).sum(dim=0) > 100\n",
    "data[\"movie\"].x = data[\"movie\"].x[:, feature_mask]\n",
    "\n",
    "feature_mask = (data[\"director\"].x != 0).sum(dim=0) > 100\n",
    "data[\"director\"].x = data[\"director\"].x[:, feature_mask]\n",
    "\n",
    "feature_mask = (data[\"actor\"].x != 0).sum(dim=0) > 300\n",
    "data[\"actor\"].x = data[\"actor\"].x[:, feature_mask]\n",
    "\n",
    "# Casting the reponse variable to float and reshaping it to match the exepcted dimension\n",
    "data[\"movie\"].y = data[\"movie\"].y.reshape([len(data[\"movie\"].y), 1]).to(torch.float32)"
   ]
  },
  {
   "cell_type": "markdown",
   "id": "932b8c09-bec9-480a-b590-3dd604552df5",
   "metadata": {},
   "source": [
    "# DEV"
   ]
  },
  {
   "cell_type": "code",
   "execution_count": 204,
   "id": "e893fe2e-2915-4861-bcf9-4d9fb5b7680f",
   "metadata": {},
   "outputs": [
    {
     "name": "stderr",
     "output_type": "stream",
     "text": [
      "C:\\Users\\FJO017\\Anaconda3\\envs\\heterogeneous_mpnn\\lib\\site-packages\\torch_geometric\\nn\\conv\\hetero_conv.py:62: UserWarning: There exist node types ({'director', 'actor'}) whose representations do not get updated during message passing as they do not occur as destination type in any edge type. This may lead to unexpected behavior.\n",
      "  warnings.warn(\n",
      "C:\\Users\\FJO017\\Anaconda3\\envs\\heterogeneous_mpnn\\lib\\site-packages\\torch_geometric\\nn\\conv\\hetero_conv.py:62: UserWarning: There exist node types ({'director'}) whose representations do not get updated during message passing as they do not occur as destination type in any edge type. This may lead to unexpected behavior.\n",
      "  warnings.warn(\n",
      "C:\\Users\\FJO017\\Anaconda3\\envs\\heterogeneous_mpnn\\lib\\site-packages\\torch_geometric\\nn\\conv\\hetero_conv.py:62: UserWarning: There exist node types ({'actor'}) whose representations do not get updated during message passing as they do not occur as destination type in any edge type. This may lead to unexpected behavior.\n",
      "  warnings.warn(\n",
      "C:\\Users\\FJO017\\Anaconda3\\envs\\heterogeneous_mpnn\\lib\\site-packages\\torch_geometric\\nn\\conv\\hetero_conv.py:62: UserWarning: There exist node types ({'movie'}) whose representations do not get updated during message passing as they do not occur as destination type in any edge type. This may lead to unexpected behavior.\n",
      "  warnings.warn(\n"
     ]
    },
    {
     "name": "stdout",
     "output_type": "stream",
     "text": [
      "Epoch #0\n",
      "Epoch #25\n",
      "Epoch #50\n",
      "Epoch #75\n",
      "Epoch #100\n",
      "Early stopping. Epoch #105\n"
     ]
    },
    {
     "data": {
      "image/png": "[encoded data removed]",
      "text/plain": [
       "<Figure size 500x270 with 1 Axes>"
      ]
     },
     "metadata": {},
     "output_type": "display_data"
    }
   ],
   "source": [
    "import models_mpnn, models_hmct, utils\n",
    "\n",
    "node_type = \"movie\"\n",
    "max_epochs = 1000\n",
    "\n",
    "# Initialize model\n",
    "model = models_mpnn.NNConv2Layer(data, node_type)\n",
    "model = models_hmct.Hmct3Layer(data, node_type)\n",
    "utils.get_num_params(model)\n",
    "\n",
    "\n",
    "train_hist = pd.DataFrame(columns=[\"loss_train\", \"loss_val\"])\n",
    "\n",
    "# Initialize the loss-function and optimizer\n",
    "loss_fun = torch.nn.BCELoss()\n",
    "optimizer = torch.optim.Adam(model.parameters(), lr=0.001, weight_decay=1e-6)\n",
    "\n",
    "\n",
    "y = data[node_type].y\n",
    "# Training model with early stopping\n",
    "model.train()\n",
    "for epoch in range(max_epochs):\n",
    "    optimizer.zero_grad()\n",
    "    pred = model.forward(data.x_dict, data.edge_index_dict, data.edge_attr_dict)\n",
    "    loss_train = loss_fun(\n",
    "        pred[data[node_type].train_mask], y[data[node_type].train_mask]\n",
    "    )\n",
    "\n",
    "    loss_val = loss_fun(pred[data[node_type].val_mask], y[data[node_type].val_mask])\n",
    "\n",
    "    train_hist.loc[epoch] = loss_train.item(), loss_val.item()\n",
    "    if (\n",
    "        epoch > 0\n",
    "        and train_hist.loc[epoch, \"loss_val\"] > train_hist.loc[epoch - 1, \"loss_val\"]\n",
    "    ):\n",
    "        print(f\"Early stopping. Epoch #{epoch}\")\n",
    "        break\n",
    "    if epoch % 25 == 0:\n",
    "        print(f\"Epoch #{epoch}\")\n",
    "\n",
    "    loss_train.backward()\n",
    "    optimizer.step()\n",
    "\n",
    "train_hist\n",
    "\n",
    "fig, ax = plt.subplots(figsize=(5, 2.7))\n",
    "ax.plot(train_hist[\"loss_train\"], label=\"train\")\n",
    "ax.plot(train_hist[\"loss_val\"], label=\"validation\")\n",
    "ax.set_yscale(\"log\")\n",
    "ax.set_xlabel(\"Epoch\")\n",
    "ax.set_ylabel(\"Loss\")\n",
    "plt.legend()\n",
    "plt.show()"
   ]
  },
  {
   "cell_type": "code",
   "execution_count": 205,
   "id": "7b5deb48-6444-4999-9f29-99a74a7cfa60",
   "metadata": {},
   "outputs": [
    {
     "name": "stdout",
     "output_type": "stream",
     "text": [
      "0.5858333333333334\n",
      "0.5291214587100663\n",
      "0.5407056991640649\n"
     ]
    }
   ],
   "source": [
    "with torch.no_grad():\n",
    "    pred = model.forward(data.x_dict, data.edge_index_dict, data.edge_attr_dict)\n",
    "\n",
    "from sklearn.metrics import auc, roc_curve, roc_auc_score, precision_recall_curve\n",
    "\n",
    "pred_train = pred[data[node_type].train_mask]\n",
    "y_train = y[data[node_type].train_mask]\n",
    "\n",
    "pred_val = pred[data[node_type].val_mask]\n",
    "y_val = y[data[node_type].val_mask]\n",
    "\n",
    "pred_test = pred[data[node_type].test_mask]\n",
    "y_test = y[data[node_type].test_mask]\n",
    "\n",
    "print(roc_auc_score(y_train.detach().numpy(), pred_train.detach().numpy()))\n",
    "print(roc_auc_score(y_val.detach().numpy(), pred_val.detach().numpy()))\n",
    "print(roc_auc_score(y_test.detach().numpy(), pred_test.detach().numpy()))"
   ]
  }
 ],
 "metadata": {
  "kernelspec": {
   "display_name": "heterogeneous_mpnn",
   "language": "python",
   "name": "heterogeneous_mpnn"
  },
  "language_info": {
   "codemirror_mode": {
    "name": "ipython",
    "version": 3
   },
   "file_extension": ".py",
   "mimetype": "text/x-python",
   "name": "python",
   "nbconvert_exporter": "python",
   "pygments_lexer": "ipython3",
   "version": "3.9.16"
  }
 },
 "nbformat": 4,
 "nbformat_minor": 5
}
